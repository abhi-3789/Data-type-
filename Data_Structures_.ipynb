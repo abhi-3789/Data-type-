{
  "nbformat": 4,
  "nbformat_minor": 0,
  "metadata": {
    "colab": {
      "provenance": []
    },
    "kernelspec": {
      "name": "python3",
      "display_name": "Python 3"
    },
    "language_info": {
      "name": "python"
    }
  },
  "cells": [
    {
      "cell_type": "markdown",
      "source": [
        "# Data Types and Structures Questions\n"
      ],
      "metadata": {
        "id": "d2OZmRxIlhtC"
      }
    },
    {
      "cell_type": "markdown",
      "source": [
        "Q1.What are data structures, and why are they importants?"
      ],
      "metadata": {
        "id": "ztLn8BailjyJ"
      }
    },
    {
      "cell_type": "code",
      "source": [
        "\"\"\"\n",
        "Data structures is way of organinzing and storing data so that it can be acessed\n",
        "and updated efficiently.\n",
        "They are important because they provide efficient way of storing and managing\n",
        "data.\n",
        "\"\"\"\n"
      ],
      "metadata": {
        "id": "ykjHr4f3luKj",
        "colab": {
          "base_uri": "https://localhost:8080/",
          "height": 53
        },
        "outputId": "b7360532-04ed-49bd-ec11-725374df73a3"
      },
      "execution_count": null,
      "outputs": [
        {
          "output_type": "execute_result",
          "data": {
            "text/plain": [
              "'\\nData structures is way of organinzing and storing data so that it can be acessed\\nand updated efficiently.\\nThey are important because they provide efficient way of storing and managing\\ndata.\\n'"
            ],
            "application/vnd.google.colaboratory.intrinsic+json": {
              "type": "string"
            }
          },
          "metadata": {},
          "execution_count": 5
        }
      ]
    },
    {
      "cell_type": "markdown",
      "source": [
        "Q2.  Explain the difference between mutable and immutable data types with examples?"
      ],
      "metadata": {
        "id": "e0P3pDTanCaU"
      }
    },
    {
      "cell_type": "code",
      "source": [
        "\"\"\"\n",
        "Mutable data types are those whose values can be changed after they are created.\n",
        "Examples of mutable data types in Python include lists, dictionaries, and sets.\n",
        "Immutable data types are those whose values cannot be changed after they are\n",
        "created.\n",
        "Examples of immutable data types in Python include strings, numbers, and tuples.\n",
        "\"\"\""
      ],
      "metadata": {
        "id": "e4xY5HennH09",
        "colab": {
          "base_uri": "https://localhost:8080/",
          "height": 53
        },
        "outputId": "e0a27f1b-680c-4f42-d8d3-953de415e6e2"
      },
      "execution_count": null,
      "outputs": [
        {
          "output_type": "execute_result",
          "data": {
            "text/plain": [
              "'\\nMutable data types are those whose values can be changed after they are created.\\nExamples of mutable data types in Python include lists, dictionaries, and sets.\\nImmutable data types are those whose values cannot be changed after they are\\ncreated.\\nExamples of immutable data types in Python include strings, numbers, and tuples.\\n'"
            ],
            "application/vnd.google.colaboratory.intrinsic+json": {
              "type": "string"
            }
          },
          "metadata": {},
          "execution_count": 6
        }
      ]
    },
    {
      "cell_type": "markdown",
      "source": [
        "Q3.P What are the main differences between lists and tuples in Python?"
      ],
      "metadata": {
        "id": "i8BJEYhMnvuF"
      }
    },
    {
      "cell_type": "code",
      "source": [
        "\"\"\"\n",
        "The main differences between lists and tuples in Python are:\n",
        "Lists are mutable, while tuples are immutable.\n",
        "Lists are defined using square brackets [], while tuples are defined using\n",
        "parentheses ().\n",
        "\"\"\""
      ],
      "metadata": {
        "id": "qtT-0r1An3uH",
        "colab": {
          "base_uri": "https://localhost:8080/",
          "height": 53
        },
        "outputId": "eecfe985-e369-4603-e8f2-e3e649db79f4"
      },
      "execution_count": null,
      "outputs": [
        {
          "output_type": "execute_result",
          "data": {
            "text/plain": [
              "'\\nThe main differences between lists and tuples in Python are:\\nLists are mutable, while tuples are immutable.\\nLists are defined using square brackets [], while tuples are defined using\\nparentheses ().\\n'"
            ],
            "application/vnd.google.colaboratory.intrinsic+json": {
              "type": "string"
            }
          },
          "metadata": {},
          "execution_count": 7
        }
      ]
    },
    {
      "cell_type": "markdown",
      "source": [
        "Q4.Describe how dictionaries store data?\n"
      ],
      "metadata": {
        "id": "7ogDMJpOoCTD"
      }
    },
    {
      "cell_type": "code",
      "source": [
        "\"\"\"\n",
        "Dictionaries store data in the form of key-value pairs.\n",
        "\"\"\""
      ],
      "metadata": {
        "id": "vbC68J_qoKTE",
        "colab": {
          "base_uri": "https://localhost:8080/",
          "height": 36
        },
        "outputId": "f0e6baf3-2ead-4439-b5f4-c8a9999291ea"
      },
      "execution_count": null,
      "outputs": [
        {
          "output_type": "execute_result",
          "data": {
            "text/plain": [
              "'\\nDictionaries store data in the form of key-value pairs.\\n'"
            ],
            "application/vnd.google.colaboratory.intrinsic+json": {
              "type": "string"
            }
          },
          "metadata": {},
          "execution_count": 8
        }
      ]
    },
    {
      "cell_type": "markdown",
      "source": [
        "Q5.Why might you use a set instead of a list in Python?"
      ],
      "metadata": {
        "id": "KNDH3QSVoZaf"
      }
    },
    {
      "cell_type": "code",
      "source": [
        "\"\"\"\n",
        "set used instead of list because it does not allow duplicate values.\n",
        "that means set have unique values.\n",
        "\"\"\""
      ],
      "metadata": {
        "id": "o904WvO0oexN",
        "colab": {
          "base_uri": "https://localhost:8080/",
          "height": 36
        },
        "outputId": "506f7b60-217f-4bd5-88ce-63bd80448473"
      },
      "execution_count": null,
      "outputs": [
        {
          "output_type": "execute_result",
          "data": {
            "text/plain": [
              "'\\nset used instead of list because it does not allow duplicate values.\\nthat means set have unique values.\\n'"
            ],
            "application/vnd.google.colaboratory.intrinsic+json": {
              "type": "string"
            }
          },
          "metadata": {},
          "execution_count": 9
        }
      ]
    },
    {
      "cell_type": "markdown",
      "source": [
        "Q6.What is a string in Python, and how is it different from a list?"
      ],
      "metadata": {
        "id": "yF4JYRWLo15L"
      }
    },
    {
      "cell_type": "code",
      "source": [
        "\"\"\"\n",
        "string is sequence of character and it is immutable.\n",
        "it is different from list because it is sequence of character and it is\n",
        "immutable.\n",
        "\"\"\""
      ],
      "metadata": {
        "id": "_IN7OwLMo8O0",
        "colab": {
          "base_uri": "https://localhost:8080/",
          "height": 36
        },
        "outputId": "59c9b7a5-1daa-4a4d-c99e-8225e06a605e"
      },
      "execution_count": null,
      "outputs": [
        {
          "output_type": "execute_result",
          "data": {
            "text/plain": [
              "'\\nstring is sequence of character and it is immutable.\\nit is different from list because it is sequence of character and it is\\nimmutable.\\n'"
            ],
            "application/vnd.google.colaboratory.intrinsic+json": {
              "type": "string"
            }
          },
          "metadata": {},
          "execution_count": 10
        }
      ]
    },
    {
      "cell_type": "markdown",
      "source": [
        "Q7.How do tuples ensure data integrity in Python?"
      ],
      "metadata": {
        "id": "qNKq1kxTpRky"
      }
    },
    {
      "cell_type": "code",
      "source": [
        "\"\"\"\n",
        "Tuples ensure data integrity in Python because they are immutable, which means\n",
        "that once a tuple is created, its values cannot be changed.\n",
        "\"\"\""
      ],
      "metadata": {
        "id": "E9Kc6dpEpWOK",
        "colab": {
          "base_uri": "https://localhost:8080/",
          "height": 36
        },
        "outputId": "45a29be8-bcee-4fa2-f69b-22791d129851"
      },
      "execution_count": null,
      "outputs": [
        {
          "output_type": "execute_result",
          "data": {
            "text/plain": [
              "'\\nTuples ensure data integrity in Python because they are immutable, which means\\nthat once a tuple is created, its values cannot be changed.\\n'"
            ],
            "application/vnd.google.colaboratory.intrinsic+json": {
              "type": "string"
            }
          },
          "metadata": {},
          "execution_count": 11
        }
      ]
    },
    {
      "cell_type": "markdown",
      "source": [
        "Q8.What is a hash table, and how does it relate to dictionaries in Python?"
      ],
      "metadata": {
        "id": "QgLIQHYQpebW"
      }
    },
    {
      "cell_type": "code",
      "source": [
        "\"\"\"\n",
        "Hash table is a data structure that is used to store data in the form of\n",
        "key-value pairs.\n",
        "it is related to dictionaries in Python because dictionaries are implemented\n",
        "using hash tables.\n",
        "\n",
        "\"\"\""
      ],
      "metadata": {
        "id": "2FrIwc6ypiw9",
        "colab": {
          "base_uri": "https://localhost:8080/",
          "height": 53
        },
        "outputId": "fe6bca2c-d95d-4fc6-9192-c90faed996e0"
      },
      "execution_count": null,
      "outputs": [
        {
          "output_type": "execute_result",
          "data": {
            "text/plain": [
              "'\\nHash table is a data structure that is used to store data in the form of\\nkey-value pairs.\\nit is related to dictionaries in Python because dictionaries are implemented\\nusing hash tables.\\n\\n'"
            ],
            "application/vnd.google.colaboratory.intrinsic+json": {
              "type": "string"
            }
          },
          "metadata": {},
          "execution_count": 13
        }
      ]
    },
    {
      "cell_type": "markdown",
      "source": [
        "Q9. Can lists contain different data types in Python?"
      ],
      "metadata": {
        "id": "crRkohM0qC1Y"
      }
    },
    {
      "cell_type": "code",
      "source": [
        "\"\"\"\n",
        "Yes, lists can contain different data types in Python.\n",
        "\"\"\""
      ],
      "metadata": {
        "id": "-YPQcYQzqKLF",
        "colab": {
          "base_uri": "https://localhost:8080/",
          "height": 36
        },
        "outputId": "60ca2e27-ef3b-493c-d71d-b51c9b3f008f"
      },
      "execution_count": null,
      "outputs": [
        {
          "output_type": "execute_result",
          "data": {
            "text/plain": [
              "'\\nYes, lists can contain different data types in Python.\\n'"
            ],
            "application/vnd.google.colaboratory.intrinsic+json": {
              "type": "string"
            }
          },
          "metadata": {},
          "execution_count": 14
        }
      ]
    },
    {
      "cell_type": "markdown",
      "source": [
        "Q10.P Explain why strings are immutable in Python?"
      ],
      "metadata": {
        "id": "ybkNJ8cbqRDS"
      }
    },
    {
      "cell_type": "code",
      "source": [
        "\"\"\"\n",
        "strings are immutable in Python because once a string is created, its values\n",
        "cannot be changed.\n",
        "\"\"\""
      ],
      "metadata": {
        "id": "6m7QjrcgqnU5",
        "colab": {
          "base_uri": "https://localhost:8080/",
          "height": 36
        },
        "outputId": "39b07491-7dac-4b7c-9ac5-bd633cf5cdf5"
      },
      "execution_count": null,
      "outputs": [
        {
          "output_type": "execute_result",
          "data": {
            "text/plain": [
              "'\\nstrings are immutable in Python because once a string is created, its values\\ncannot be changed.\\n'"
            ],
            "application/vnd.google.colaboratory.intrinsic+json": {
              "type": "string"
            }
          },
          "metadata": {},
          "execution_count": 15
        }
      ]
    },
    {
      "cell_type": "markdown",
      "source": [
        "Q11.What advantages do dictionaries offer over lists for certain tasks?"
      ],
      "metadata": {
        "id": "Zm4a8Z4Xqrxz"
      }
    },
    {
      "cell_type": "code",
      "source": [
        "\"\"\"\n",
        "Dictionaries are ideal for key-value association , data maping\n",
        "thats why dictionaries are faster than lists.\n",
        "\"\"\""
      ],
      "metadata": {
        "id": "ac1WkbH1q7VX",
        "colab": {
          "base_uri": "https://localhost:8080/",
          "height": 36
        },
        "outputId": "9faa0770-e5ee-4c97-aff2-2f24e75d9be7"
      },
      "execution_count": null,
      "outputs": [
        {
          "output_type": "execute_result",
          "data": {
            "text/plain": [
              "'\\nDictionaries are ideal for key-value association , data maping \\nthats why dictionaries are faster than lists.\\n'"
            ],
            "application/vnd.google.colaboratory.intrinsic+json": {
              "type": "string"
            }
          },
          "metadata": {},
          "execution_count": 16
        }
      ]
    },
    {
      "cell_type": "markdown",
      "source": [
        "Q12. Describe a scenario where using a tuple would be preferable over a list?"
      ],
      "metadata": {
        "id": "iFBeUoKTrfoz"
      }
    },
    {
      "cell_type": "code",
      "source": [
        "\"\"\"\n",
        "A tuple would be preferable over a list where data mutability is required.\n",
        "for example storing data of geographical cordinates that can't change after\n",
        "the creation of data.\n",
        "\"\"\""
      ],
      "metadata": {
        "colab": {
          "base_uri": "https://localhost:8080/",
          "height": 36
        },
        "id": "MFCsWJL6rkmA",
        "outputId": "4df380e6-10a1-4cdd-8305-156189e88e47"
      },
      "execution_count": null,
      "outputs": [
        {
          "output_type": "execute_result",
          "data": {
            "text/plain": [
              "\"\\nA tuple would be preferable over a list where data mutability is required.\\nfor example storing data of geographical cordinates that can't change after\\nthe creation of data.\\n\""
            ],
            "application/vnd.google.colaboratory.intrinsic+json": {
              "type": "string"
            }
          },
          "metadata": {},
          "execution_count": 18
        }
      ]
    },
    {
      "cell_type": "markdown",
      "source": [
        "Q13. How do sets handle duplicate values in Python?"
      ],
      "metadata": {
        "id": "MbcLZOLBs-2V"
      }
    },
    {
      "cell_type": "code",
      "source": [
        "\"\"\"\n",
        "Sets handle duplicate values in Python by automatically removing any duplicate\n",
        "values.\n",
        "\"\"\""
      ],
      "metadata": {
        "colab": {
          "base_uri": "https://localhost:8080/",
          "height": 36
        },
        "id": "UfqyFtmitEk1",
        "outputId": "24313408-7119-450d-d518-717d9ab7a22d"
      },
      "execution_count": null,
      "outputs": [
        {
          "output_type": "execute_result",
          "data": {
            "text/plain": [
              "'\\nSets handle duplicate values in Python by automatically removing any duplicate\\nvalues.\\n'"
            ],
            "application/vnd.google.colaboratory.intrinsic+json": {
              "type": "string"
            }
          },
          "metadata": {},
          "execution_count": 4
        }
      ]
    },
    {
      "cell_type": "markdown",
      "source": [
        "Q14.How does the “in” keyword work differently for lists and dictionaries?\n"
      ],
      "metadata": {
        "id": "8IPRYZuqtX6L"
      }
    },
    {
      "cell_type": "code",
      "source": [
        "\"\"\"\n",
        "The 'in' keyword word work differntly for lists and dictionaries\n",
        "for list-\n",
        "'in' check the presence of specific value within the list.\n",
        "for dictinaries-\n",
        "'in' check the presence of specific key within the dictionary.\n",
        "\"\"\"\n"
      ],
      "metadata": {
        "colab": {
          "base_uri": "https://localhost:8080/",
          "height": 53
        },
        "id": "W8NRDB3ftFYG",
        "outputId": "31b855b2-6a92-4bcd-9287-d28b0520a95c"
      },
      "execution_count": null,
      "outputs": [
        {
          "output_type": "execute_result",
          "data": {
            "text/plain": [
              "\"\\nThe 'in' keyword word work differntly for lists and dictionaries\\nfor list-\\n'in' check the presence of specific value within the list.\\nfor dictinaries-\\n'in' check the presence of specific key within the dictionary.\\n\""
            ],
            "application/vnd.google.colaboratory.intrinsic+json": {
              "type": "string"
            }
          },
          "metadata": {},
          "execution_count": 19
        }
      ]
    },
    {
      "cell_type": "markdown",
      "source": [
        "Q15. Can you modify the elements of a tuple? Explain why or why not?\n"
      ],
      "metadata": {
        "id": "wit5s5xVueyU"
      }
    },
    {
      "cell_type": "code",
      "source": [
        "\"\"\"\n",
        "No, you can't modify the elements of a tuple because tuples are immutable.\n",
        "\"\"\""
      ],
      "metadata": {
        "colab": {
          "base_uri": "https://localhost:8080/",
          "height": 36
        },
        "id": "PgVgmeJIupCp",
        "outputId": "d312ac99-8307-4690-93d2-76fdcdd87c9f"
      },
      "execution_count": null,
      "outputs": [
        {
          "output_type": "execute_result",
          "data": {
            "text/plain": [
              "\"\\nNo, you can't modify the elements of a tuple because tuples are immutable.\\n\""
            ],
            "application/vnd.google.colaboratory.intrinsic+json": {
              "type": "string"
            }
          },
          "metadata": {},
          "execution_count": 20
        }
      ]
    },
    {
      "cell_type": "markdown",
      "source": [
        "Q16.What is a nested dictionary, and give an example of its use case?"
      ],
      "metadata": {
        "id": "8q-QkEnmusHH"
      }
    },
    {
      "cell_type": "code",
      "source": [
        "\"\"\"\n",
        "Nested dictionary is a dictionary that contains another dictionary as a value.\n",
        "for example storing a data of employees in a company, each employess has a\n",
        "common name and id but also a specific details like salary, department, etc.\n",
        "\n",
        "\"\"\""
      ],
      "metadata": {
        "colab": {
          "base_uri": "https://localhost:8080/",
          "height": 53
        },
        "id": "iA8-CybRu0_J",
        "outputId": "017091c7-57d7-4528-e07c-7be9da36b7c7"
      },
      "execution_count": null,
      "outputs": [
        {
          "output_type": "execute_result",
          "data": {
            "text/plain": [
              "'\\nNested dictionary is a dictionary that contains another dictionary as a value.\\nfor example storing a data of employees in a company, each employess has a \\ncommon name and id but also a specific details like salary, department, etc.\\n\\n'"
            ],
            "application/vnd.google.colaboratory.intrinsic+json": {
              "type": "string"
            }
          },
          "metadata": {},
          "execution_count": 21
        }
      ]
    },
    {
      "cell_type": "markdown",
      "source": [
        "Q17. Describe the time complexity of accessing elements in a dictionary?"
      ],
      "metadata": {
        "id": "mG-EGUfZvkTr"
      }
    },
    {
      "cell_type": "code",
      "source": [
        "\"\"\"\n",
        "Time complexity of accessing element means that on average the time required to\n",
        "required to retrieve a value using its key does not significantly increase with\n",
        "the size of the dictionary.\n",
        "\"\"\""
      ],
      "metadata": {
        "id": "qQJworV6vq3F"
      },
      "execution_count": null,
      "outputs": []
    },
    {
      "cell_type": "markdown",
      "source": [
        "Q18.In what situations are lists preferred over dictionaries?"
      ],
      "metadata": {
        "id": "k1DmUJA7wenF"
      }
    },
    {
      "cell_type": "code",
      "source": [
        "\"\"\"\n",
        "Lists are preferred over dictionaries when you have to store a data of mutable\n",
        "that can be cahnge after creation that data or you have to store a any type of\n",
        "data  in a ordered way which are  integer, float, boolean etc.\n",
        "\"\"\""
      ],
      "metadata": {
        "colab": {
          "base_uri": "https://localhost:8080/",
          "height": 53
        },
        "id": "kEHA6BvOw0E6",
        "outputId": "bbb4e5cc-0dd0-4d90-9b70-de013b31503c"
      },
      "execution_count": null,
      "outputs": [
        {
          "output_type": "execute_result",
          "data": {
            "text/plain": [
              "'\\nLists are preferred over dictionaries when you have to store a data of mutable \\nthat can be cahnge after creation that data or you have to store a any type of \\ndata  in a ordered way which are  integer, float, boolean etc.\\n'"
            ],
            "application/vnd.google.colaboratory.intrinsic+json": {
              "type": "string"
            }
          },
          "metadata": {},
          "execution_count": 23
        }
      ]
    },
    {
      "cell_type": "markdown",
      "source": [
        "Q19.Why are dictionaries considered unordered, and how does that affect data retrieval?"
      ],
      "metadata": {
        "id": "Rd99WHVvyPxa"
      }
    },
    {
      "cell_type": "code",
      "source": [
        "\"\"\"\n",
        "Dictionaries are considered unordere because they don't sstored data in specific\n",
        "sequence. they stored in key pair.\n",
        "\"\"\"\n"
      ],
      "metadata": {
        "colab": {
          "base_uri": "https://localhost:8080/",
          "height": 36
        },
        "id": "QMtBoPkLyWYH",
        "outputId": "81f7d7e4-086d-4362-b8db-19a44d24b326"
      },
      "execution_count": null,
      "outputs": [
        {
          "output_type": "execute_result",
          "data": {
            "text/plain": [
              "\"\\nDictionaries are considered unordere because they don't sstored data in specific\\nsequence. they stored in key pair.\\n\""
            ],
            "application/vnd.google.colaboratory.intrinsic+json": {
              "type": "string"
            }
          },
          "metadata": {},
          "execution_count": 24
        }
      ]
    },
    {
      "cell_type": "markdown",
      "source": [
        " Q20.Explain the difference between a list and a dictionary in terms of data retrieval?"
      ],
      "metadata": {
        "id": "gt0iA2GMzZRx"
      }
    },
    {
      "cell_type": "code",
      "source": [
        "\"\"\"The difference between a list and a dictionary, in terms of data retrieval,\n",
        " that is indexing mechanisms.\n",
        " \"\"\"\n"
      ],
      "metadata": {
        "colab": {
          "base_uri": "https://localhost:8080/",
          "height": 36
        },
        "id": "5zls0k8kzhYb",
        "outputId": "322c77f2-3897-4421-b131-49804ff23265"
      },
      "execution_count": null,
      "outputs": [
        {
          "output_type": "execute_result",
          "data": {
            "text/plain": [
              "'The difference between a list and a dictionary, in terms of data retrieval,\\n that is indexing mechanisms.\\n '"
            ],
            "application/vnd.google.colaboratory.intrinsic+json": {
              "type": "string"
            }
          },
          "metadata": {},
          "execution_count": 25
        }
      ]
    },
    {
      "cell_type": "markdown",
      "source": [
        "# **Practical** **Questions**"
      ],
      "metadata": {
        "id": "glbamQkR0OuS"
      }
    },
    {
      "cell_type": "markdown",
      "source": [
        "Q1.Write a code to create a string with your name and print it."
      ],
      "metadata": {
        "id": "_nVMwZK00VWe"
      }
    },
    {
      "cell_type": "code",
      "source": [
        "name = \"abhishek kumar\"\n",
        "print(name)"
      ],
      "metadata": {
        "id": "1Q-9601W029b",
        "colab": {
          "base_uri": "https://localhost:8080/"
        },
        "outputId": "7ea0979e-b20c-45e6-dcf2-8522456cb1f7"
      },
      "execution_count": 1,
      "outputs": [
        {
          "output_type": "stream",
          "name": "stdout",
          "text": [
            "abhishek kumar\n"
          ]
        }
      ]
    },
    {
      "cell_type": "markdown",
      "source": [
        "Q2.Write a code to find the length of the string \"Hello World\"."
      ],
      "metadata": {
        "id": "_QKh3x3mq-Rk"
      }
    },
    {
      "cell_type": "code",
      "source": [
        "A = \"Hello World\"\n",
        "print(len(A))"
      ],
      "metadata": {
        "colab": {
          "base_uri": "https://localhost:8080/"
        },
        "id": "XeOqoH-0rEop",
        "outputId": "2478ffa0-da1c-403a-a27c-dd7d2d04b990"
      },
      "execution_count": 2,
      "outputs": [
        {
          "output_type": "stream",
          "name": "stdout",
          "text": [
            "11\n"
          ]
        }
      ]
    },
    {
      "cell_type": "markdown",
      "source": [
        "Q3.Write a code to slice the first 3 characters from the string \"Python Programming\"."
      ],
      "metadata": {
        "id": "PiNLa1NArgBl"
      }
    },
    {
      "cell_type": "code",
      "source": [
        "string = \"Python Programming\"\n",
        "print(string[0:3])"
      ],
      "metadata": {
        "colab": {
          "base_uri": "https://localhost:8080/"
        },
        "id": "ZL3A2UxGruJt",
        "outputId": "239ed373-fcd4-47f8-8609-e579b4590d75"
      },
      "execution_count": 3,
      "outputs": [
        {
          "output_type": "stream",
          "name": "stdout",
          "text": [
            "Pyt\n"
          ]
        }
      ]
    },
    {
      "cell_type": "markdown",
      "source": [
        "Q4.Write a code to convert the string \"hello\" to uppercase?"
      ],
      "metadata": {
        "id": "7IYq99VxsMaD"
      }
    },
    {
      "cell_type": "code",
      "source": [
        "string = \"hello\"\n",
        "string = string.upper()\n",
        "print(string)\n"
      ],
      "metadata": {
        "colab": {
          "base_uri": "https://localhost:8080/"
        },
        "id": "wZBAfYEfsXdc",
        "outputId": "b4fc710a-1302-4e29-adf8-e7f3d6dd1cb1"
      },
      "execution_count": 5,
      "outputs": [
        {
          "output_type": "stream",
          "name": "stdout",
          "text": [
            "HELLO\n"
          ]
        }
      ]
    },
    {
      "cell_type": "markdown",
      "source": [
        "Q5. Write a code to replace the word \"apple\" with \"orange\" in the string \"I like apple\""
      ],
      "metadata": {
        "id": "BJpHd_rEtIm8"
      }
    },
    {
      "cell_type": "code",
      "source": [
        "string = \"I like apple\"\n",
        "string = string.replace(\"apple\", \"orange\")\n",
        "print(string)"
      ],
      "metadata": {
        "colab": {
          "base_uri": "https://localhost:8080/"
        },
        "id": "oRZRWpvjtVbj",
        "outputId": "193e3027-df11-4aac-fba9-fbbaafa1b179"
      },
      "execution_count": 6,
      "outputs": [
        {
          "output_type": "stream",
          "name": "stdout",
          "text": [
            "I like orange\n"
          ]
        }
      ]
    },
    {
      "cell_type": "markdown",
      "source": [
        "Q6.Write a code to create a list with numbers 1 to 5 and print it\n"
      ],
      "metadata": {
        "id": "gbyaAjbetgsw"
      }
    },
    {
      "cell_type": "code",
      "source": [
        "num = [1,2,3,4,5]\n",
        "print(num)"
      ],
      "metadata": {
        "colab": {
          "base_uri": "https://localhost:8080/"
        },
        "id": "dz1jxxqmtnuo",
        "outputId": "89fd11a0-51ff-42a0-9861-5935c52747b9"
      },
      "execution_count": 7,
      "outputs": [
        {
          "output_type": "stream",
          "name": "stdout",
          "text": [
            "[1, 2, 3, 4, 5]\n"
          ]
        }
      ]
    },
    {
      "cell_type": "markdown",
      "source": [
        "Q7.Write a code to append the number 10 to the list [1, 2, 3, 4]"
      ],
      "metadata": {
        "id": "uP9sNuKzuA8k"
      }
    },
    {
      "cell_type": "code",
      "source": [
        "num = [1,2,3,4]\n",
        "num.append(10)\n",
        "print(num)"
      ],
      "metadata": {
        "colab": {
          "base_uri": "https://localhost:8080/"
        },
        "id": "ngYMzJg_uH-9",
        "outputId": "9f3fa6a4-eba5-49d9-c608-d197daff1fe6"
      },
      "execution_count": 8,
      "outputs": [
        {
          "output_type": "stream",
          "name": "stdout",
          "text": [
            "[1, 2, 3, 4, 10]\n"
          ]
        }
      ]
    },
    {
      "cell_type": "markdown",
      "source": [
        "Q8.Write a code to remove the number 3 from the list [1, 2, 3, 4, 5]"
      ],
      "metadata": {
        "id": "tZBWo3rnuOtx"
      }
    },
    {
      "cell_type": "code",
      "source": [
        "# Original list\n",
        "numbers = [1, 2, 3, 4, 5]\n",
        "\n",
        "# Remove number 3\n",
        "numbers.remove(3)\n",
        "\n",
        "print(\"Updated List:\", numbers)\n"
      ],
      "metadata": {
        "colab": {
          "base_uri": "https://localhost:8080/"
        },
        "id": "-DOKJxTLub9O",
        "outputId": "e5608e43-c5b7-467f-bf58-bb04f0bcfe32"
      },
      "execution_count": 38,
      "outputs": [
        {
          "output_type": "stream",
          "name": "stdout",
          "text": [
            "Updated List: [1, 2, 4, 5]\n"
          ]
        }
      ]
    },
    {
      "cell_type": "markdown",
      "source": [
        "Q9.Write a code to access the second element in the list ['a', 'b', 'c', 'd']"
      ],
      "metadata": {
        "id": "x0RZV_VcvMDv"
      }
    },
    {
      "cell_type": "code",
      "source": [
        "my_list = ['a', 'b', 'c', 'd']\n",
        "print(my_list[1])"
      ],
      "metadata": {
        "colab": {
          "base_uri": "https://localhost:8080/"
        },
        "id": "yafUsIpRvU5P",
        "outputId": "8be25ba3-9b7c-43ab-845e-db38627cecf9"
      },
      "execution_count": 37,
      "outputs": [
        {
          "output_type": "stream",
          "name": "stdout",
          "text": [
            "b\n"
          ]
        }
      ]
    },
    {
      "cell_type": "markdown",
      "source": [
        "Q10.Write a code to reverse the list [10, 20, 30, 40, 50]."
      ],
      "metadata": {
        "id": "8SqSFzRyvxvD"
      }
    },
    {
      "cell_type": "code",
      "source": [
        "my_list = [10, 20, 30, 40, 50]\n",
        "my_list.reverse()\n",
        "print(\"Reversed List:\", my_list)\n"
      ],
      "metadata": {
        "colab": {
          "base_uri": "https://localhost:8080/"
        },
        "id": "47Sm1wMkv9Gx",
        "outputId": "f7fa424f-16ec-412a-fa30-40f6b24fc708"
      },
      "execution_count": 13,
      "outputs": [
        {
          "output_type": "stream",
          "name": "stdout",
          "text": [
            "Reversed List: [50, 40, 30, 20, 10]\n"
          ]
        }
      ]
    },
    {
      "cell_type": "markdown",
      "source": [
        "Q11. Write a code to create a tuple with the elements 100, 200, 300 and print it."
      ],
      "metadata": {
        "id": "3ed9fzwMxiDB"
      }
    },
    {
      "cell_type": "code",
      "source": [
        "my_tuple = (100, 200, 300)\n",
        "print(my_tuple)"
      ],
      "metadata": {
        "colab": {
          "base_uri": "https://localhost:8080/"
        },
        "id": "MrRLS611xqaS",
        "outputId": "a540ca3c-3193-4c55-dccc-3b897b0a0951"
      },
      "execution_count": 14,
      "outputs": [
        {
          "output_type": "stream",
          "name": "stdout",
          "text": [
            "(100, 200, 300)\n"
          ]
        }
      ]
    },
    {
      "cell_type": "markdown",
      "source": [
        "Q12. Write a code to access the second-to-last element of the tuple ('red', 'green', 'blue', 'yellow')"
      ],
      "metadata": {
        "id": "SaELQ-jVx6o5"
      }
    },
    {
      "cell_type": "code",
      "source": [
        "my_tuple = ('red', 'green', 'blue', 'yellow')\n",
        "print(my_tuple[-2])\n"
      ],
      "metadata": {
        "colab": {
          "base_uri": "https://localhost:8080/"
        },
        "id": "HP6OwsOAyYbO",
        "outputId": "275c707b-ad9e-4c6c-adb9-ef16c1f76fd7"
      },
      "execution_count": 15,
      "outputs": [
        {
          "output_type": "stream",
          "name": "stdout",
          "text": [
            "blue\n"
          ]
        }
      ]
    },
    {
      "cell_type": "markdown",
      "source": [
        "Q13. Write a code to find the minimum number in the tuple (10, 20, 5, 15)."
      ],
      "metadata": {
        "id": "Rn5tJqgryiGL"
      }
    },
    {
      "cell_type": "code",
      "source": [
        "my_tuple = (10, 20, 5, 15)\n",
        "print(min(my_tuple))"
      ],
      "metadata": {
        "colab": {
          "base_uri": "https://localhost:8080/"
        },
        "id": "hWsWM6zFyyKM",
        "outputId": "d5fe818e-61f8-402b-b639-5a099bc44792"
      },
      "execution_count": 16,
      "outputs": [
        {
          "output_type": "stream",
          "name": "stdout",
          "text": [
            "5\n"
          ]
        }
      ]
    },
    {
      "cell_type": "markdown",
      "source": [
        "Q14. Write a code to find the index of the element \"cat\" in the tuple ('dog', 'cat', 'rabbit')."
      ],
      "metadata": {
        "id": "pOuWbYAty7aC"
      }
    },
    {
      "cell_type": "code",
      "source": [
        "my_tuple = ('dog', 'cat', 'rabbit')\n",
        "animal = my_tuple.index('cat')\n",
        "print(animal)\n"
      ],
      "metadata": {
        "colab": {
          "base_uri": "https://localhost:8080/"
        },
        "id": "CeX5hwUazBw7",
        "outputId": "627592b9-0e70-4039-dd22-abfc5402acb2"
      },
      "execution_count": 17,
      "outputs": [
        {
          "output_type": "stream",
          "name": "stdout",
          "text": [
            "1\n"
          ]
        }
      ]
    },
    {
      "cell_type": "markdown",
      "source": [
        "Q15.. Write a code to create a tuple containing three different fruits and check if \"kiwi\" is in it."
      ],
      "metadata": {
        "id": "Y-Sv_KT-zilH"
      }
    },
    {
      "cell_type": "code",
      "source": [
        "my_tuple = ('apple', 'banana', 'orange')\n",
        "fruits = 'kiwi' in my_tuple\n",
        "print(fruits)"
      ],
      "metadata": {
        "colab": {
          "base_uri": "https://localhost:8080/"
        },
        "id": "OHECGSKBznnE",
        "outputId": "a592b3fd-79f8-46d0-b7f7-5f8766c044c4"
      },
      "execution_count": 18,
      "outputs": [
        {
          "output_type": "stream",
          "name": "stdout",
          "text": [
            "False\n"
          ]
        }
      ]
    },
    {
      "cell_type": "markdown",
      "source": [
        "Q16. Write a code to create a set with the elements 'a', 'b', 'c' and print it."
      ],
      "metadata": {
        "id": "AbrjKThnz5_m"
      }
    },
    {
      "cell_type": "code",
      "source": [
        "my_set = ('a', 'b', 'c')\n",
        "print(my_set)"
      ],
      "metadata": {
        "colab": {
          "base_uri": "https://localhost:8080/"
        },
        "id": "fWL9mlxuz_L2",
        "outputId": "6b478723-f25f-44af-a4aa-283b713aa60c"
      },
      "execution_count": 19,
      "outputs": [
        {
          "output_type": "stream",
          "name": "stdout",
          "text": [
            "('a', 'b', 'c')\n"
          ]
        }
      ]
    },
    {
      "cell_type": "markdown",
      "source": [
        "Q17. Write a code to clear all elements from the set {1, 2, 3, 4, 5}."
      ],
      "metadata": {
        "id": "po70xY_30R_J"
      }
    },
    {
      "cell_type": "code",
      "source": [
        "my_set = {1, 2, 3, 4, 5}\n",
        "my_set.clear()\n",
        "print(my_set)"
      ],
      "metadata": {
        "colab": {
          "base_uri": "https://localhost:8080/"
        },
        "id": "OEimo2M80Zj3",
        "outputId": "d56cc78c-b972-44a0-f1b9-61a4e689fd3a"
      },
      "execution_count": 20,
      "outputs": [
        {
          "output_type": "stream",
          "name": "stdout",
          "text": [
            "set()\n"
          ]
        }
      ]
    },
    {
      "cell_type": "markdown",
      "source": [
        "Q18. Write a code to remove the element 4 from the set {1, 2, 3, 4}."
      ],
      "metadata": {
        "id": "YGDIi4Pt0QvA"
      }
    },
    {
      "cell_type": "code",
      "source": [
        "my_set = {1, 2, 3, 4}\n",
        "my_set.remove(4)\n",
        "print(my_set)"
      ],
      "metadata": {
        "colab": {
          "base_uri": "https://localhost:8080/"
        },
        "id": "J1lc4L9n0nmn",
        "outputId": "aa824a6e-311f-4d57-e779-a12ffeed1f7b"
      },
      "execution_count": 21,
      "outputs": [
        {
          "output_type": "stream",
          "name": "stdout",
          "text": [
            "{1, 2, 3}\n"
          ]
        }
      ]
    },
    {
      "cell_type": "markdown",
      "source": [
        "Q19. Write a code to find the union of two sets {1, 2, 3} and {3, 4, 5}.\n",
        "\n"
      ],
      "metadata": {
        "id": "ONcWocmL01Rc"
      }
    },
    {
      "cell_type": "code",
      "source": [
        "set1 = {1, 2, 3}\n",
        "set2 = {3, 4, 5}\n",
        "\n",
        "union_set = set1.union(set2)\n",
        "print(\"Union of two set:\", union_set)\n",
        "\n"
      ],
      "metadata": {
        "colab": {
          "base_uri": "https://localhost:8080/"
        },
        "id": "Z6a2hMFa0-I3",
        "outputId": "8c2e0935-885a-4a75-c578-43a94049dd9b"
      },
      "execution_count": 24,
      "outputs": [
        {
          "output_type": "stream",
          "name": "stdout",
          "text": [
            "Union of two set: {1, 2, 3, 4, 5}\n"
          ]
        }
      ]
    },
    {
      "cell_type": "markdown",
      "source": [
        "Q20. Write a code to find the intersection of two sets {1, 2, 3} and {2, 3, 4}.\n",
        "\n"
      ],
      "metadata": {
        "id": "qL3tDD451rgY"
      }
    },
    {
      "cell_type": "code",
      "source": [
        "set1= {1, 2, 3}\n",
        "set2 = {2, 3, 4}\n",
        "\n",
        "intersection_set = set1.intersection(set2)\n",
        "print(\"Intersection of two set:\", intersection_set)"
      ],
      "metadata": {
        "colab": {
          "base_uri": "https://localhost:8080/"
        },
        "id": "x8S-KLCC1wSv",
        "outputId": "f1f8036f-305a-44ae-d0d2-3bd9875bb53d"
      },
      "execution_count": 25,
      "outputs": [
        {
          "output_type": "stream",
          "name": "stdout",
          "text": [
            "Intersection of two set: {2, 3}\n"
          ]
        }
      ]
    },
    {
      "cell_type": "markdown",
      "source": [
        "Q21. Write a code to create a dictionary with the keys \"name\", \"age\", and \"city\", and print it."
      ],
      "metadata": {
        "id": "EMQDJRo618-P"
      }
    },
    {
      "cell_type": "code",
      "source": [
        "my_dict = {\"name\": \"abhishek\", \"age\": 20, \"city\": \"lucknow\"}\n",
        "print(my_dict)"
      ],
      "metadata": {
        "colab": {
          "base_uri": "https://localhost:8080/"
        },
        "id": "7V2eN54R2ENc",
        "outputId": "96a224ff-d013-4687-a97e-3b5eb5a56120"
      },
      "execution_count": 26,
      "outputs": [
        {
          "output_type": "stream",
          "name": "stdout",
          "text": [
            "{'name': 'abhishek', 'age': 20, 'city': 'lucknow'}\n"
          ]
        }
      ]
    },
    {
      "cell_type": "markdown",
      "source": [
        "Q22. Write a code to add a new key-value pair \"country\": \"USA\" to the dictionary {'name': 'John', 'age': 25}."
      ],
      "metadata": {
        "id": "jlYgnf612Vle"
      }
    },
    {
      "cell_type": "code",
      "source": [
        "my_dict = {'name': 'John', 'age': 25}\n",
        "my_dict[\"country\"] = \"USA\"\n",
        "print(my_dict)"
      ],
      "metadata": {
        "colab": {
          "base_uri": "https://localhost:8080/"
        },
        "id": "_xuvkll82f_V",
        "outputId": "be0e1c0f-35cb-4d78-89b6-b863e195b2cf"
      },
      "execution_count": 27,
      "outputs": [
        {
          "output_type": "stream",
          "name": "stdout",
          "text": [
            "{'name': 'John', 'age': 25, 'country': 'USA'}\n"
          ]
        }
      ]
    },
    {
      "cell_type": "markdown",
      "source": [
        "Q23.Write a code to access the value associated with the key \"name\" in the dictionary {'name': 'Alice', 'age': 30}.\n",
        "\n"
      ],
      "metadata": {
        "id": "AY2uxZ9W2p2P"
      }
    },
    {
      "cell_type": "code",
      "source": [
        "person = {'name': 'Alice', 'age': 30}\n",
        "\n",
        "name_value = person['name']\n",
        "\n",
        "print(\"Value of 'name':\", name_value)\n",
        "\n"
      ],
      "metadata": {
        "colab": {
          "base_uri": "https://localhost:8080/"
        },
        "id": "VmrjNvvq2ywR",
        "outputId": "ba2d8828-48d9-4f78-fbac-56d2e8d87d82"
      },
      "execution_count": 28,
      "outputs": [
        {
          "output_type": "stream",
          "name": "stdout",
          "text": [
            "Value of 'name': Alice\n"
          ]
        }
      ]
    },
    {
      "cell_type": "markdown",
      "source": [
        "Q24. Write a code to remove the key \"age\" from the dictionary {'name': 'Bob', 'age': 22, 'city': 'New York'}."
      ],
      "metadata": {
        "id": "io7yA7oa3942"
      }
    },
    {
      "cell_type": "code",
      "source": [
        "my_dict = {'name': 'Bob', 'age': 22, 'city': 'New York'}\n",
        "del my_dict['age']\n",
        "print(my_dict)"
      ],
      "metadata": {
        "colab": {
          "base_uri": "https://localhost:8080/"
        },
        "id": "3Lt-gv3k4PKo",
        "outputId": "a930b0b2-9609-4c1b-adb1-5e4a47c776ed"
      },
      "execution_count": 29,
      "outputs": [
        {
          "output_type": "stream",
          "name": "stdout",
          "text": [
            "{'name': 'Bob', 'city': 'New York'}\n"
          ]
        }
      ]
    },
    {
      "cell_type": "markdown",
      "source": [
        "Q25. Write a code to check if the key \"city\" exists in the dictionary {'name': 'Alice', 'city': 'Paris'}."
      ],
      "metadata": {
        "id": "VzQBAQ304gA-"
      }
    },
    {
      "cell_type": "code",
      "source": [
        "my_dict = {'name': 'Alice', 'city': 'Paris'}\n",
        "city_key = 'city' in my_dict\n",
        "print(city_key)"
      ],
      "metadata": {
        "colab": {
          "base_uri": "https://localhost:8080/"
        },
        "id": "DX93RlCi4pV_",
        "outputId": "6263a80d-ade0-4996-e11a-05436b31335d"
      },
      "execution_count": 30,
      "outputs": [
        {
          "output_type": "stream",
          "name": "stdout",
          "text": [
            "True\n"
          ]
        }
      ]
    },
    {
      "cell_type": "markdown",
      "source": [
        "Q26. Write a code to create a list, a tuple, and a dictionary, and print them all."
      ],
      "metadata": {
        "id": "hTKPjqJm4094"
      }
    },
    {
      "cell_type": "code",
      "source": [
        "my_list = [1, 2, 3, 4, 5]\n",
        "my_tuple = (10, 20, 30, 40, 50)\n",
        "my_dict = {'name': 'John', 'age': 25}\n",
        "\n",
        "print(\"List:\", my_list)\n",
        "print(\"Tuple:\", my_tuple)\n",
        "print(\"Dictionary:\", my_dict)"
      ],
      "metadata": {
        "colab": {
          "base_uri": "https://localhost:8080/"
        },
        "id": "Y42HmQ7347mC",
        "outputId": "ed19e438-09cd-4b16-a2cf-267c567a72f6"
      },
      "execution_count": 31,
      "outputs": [
        {
          "output_type": "stream",
          "name": "stdout",
          "text": [
            "List: [1, 2, 3, 4, 5]\n",
            "Tuple: (10, 20, 30, 40, 50)\n",
            "Dictionary: {'name': 'John', 'age': 25}\n"
          ]
        }
      ]
    },
    {
      "cell_type": "markdown",
      "source": [
        "Q27. Write a code to create a list of 5 random numbers between 1 and 100, sort it in ascending order, and print the result.(replaced)\n",
        "\n"
      ],
      "metadata": {
        "id": "n-mTfadi5QhJ"
      }
    },
    {
      "cell_type": "code",
      "source": [
        "import random\n",
        "\n",
        "# Generate list of 5 random numbers between 1 and 100\n",
        "numbers = random.sample(range(1, 101), 5)\n",
        "\n",
        "# Sort in ascending order\n",
        "numbers.sort()\n",
        "\n",
        "# Print result\n",
        "print(\"Sorted List:\", numbers)\n"
      ],
      "metadata": {
        "colab": {
          "base_uri": "https://localhost:8080/"
        },
        "id": "i_ISztOT5pQO",
        "outputId": "887b653d-9673-48bb-b76e-f637a982bc70"
      },
      "execution_count": 33,
      "outputs": [
        {
          "output_type": "stream",
          "name": "stdout",
          "text": [
            "Sorted List: [77, 80, 86, 98, 99]\n"
          ]
        }
      ]
    },
    {
      "cell_type": "markdown",
      "source": [
        "Q28. Write a code to create a list with strings and print the element at the third index."
      ],
      "metadata": {
        "id": "aWepjztg6SPq"
      }
    },
    {
      "cell_type": "code",
      "source": [
        "# Create a list with strings\n",
        "fruits = [\"apple\", \"banana\", \"cherry\", \"mango\", \"orange\"]\n",
        "\n",
        "# Access element at third index (indexing starts from 0)\n",
        "element = fruits[3]\n",
        "\n",
        "print(\"Element at third index:\", element)\n"
      ],
      "metadata": {
        "colab": {
          "base_uri": "https://localhost:8080/"
        },
        "id": "Hf4kOzOU6qfT",
        "outputId": "36b74b28-d805-4f00-cff7-d4b248a8ca85"
      },
      "execution_count": 34,
      "outputs": [
        {
          "output_type": "stream",
          "name": "stdout",
          "text": [
            "Element at third index: mango\n"
          ]
        }
      ]
    },
    {
      "cell_type": "markdown",
      "source": [
        "Q29. Write a code to combine two dictionaries into one and print the result."
      ],
      "metadata": {
        "id": "G9Ml97mX7KS8"
      }
    },
    {
      "cell_type": "code",
      "source": [
        "# Define two dictionaries\n",
        "dict1 = {'a': 1, 'b': 2}\n",
        "dict2 = {'c': 3, 'd': 4}\n",
        "\n",
        "# Combine using update()\n",
        "combined_dict = dict1.copy()   # make a copy so original dict1 is not changed\n",
        "combined_dict.update(dict2)\n",
        "\n",
        "print(\"Combined Dictionary:\", combined_dict)\n"
      ],
      "metadata": {
        "colab": {
          "base_uri": "https://localhost:8080/"
        },
        "id": "kOidLSpZ8Aum",
        "outputId": "2c9fd9f8-4d2f-4911-b0bb-59edd5d04174"
      },
      "execution_count": 35,
      "outputs": [
        {
          "output_type": "stream",
          "name": "stdout",
          "text": [
            "Combined Dictionary: {'a': 1, 'b': 2, 'c': 3, 'd': 4}\n"
          ]
        }
      ]
    },
    {
      "cell_type": "markdown",
      "source": [
        "Q30. Write a code to convert a list of strings into a set."
      ],
      "metadata": {
        "id": "ovdl3XLV8Siv"
      }
    },
    {
      "cell_type": "code",
      "source": [
        "# List of strings\n",
        "fruits = [\"apple\", \"banana\", \"cherry\", \"apple\", \"banana\"]\n",
        "\n",
        "# Convert list to set\n",
        "fruits_set = set(fruits)\n",
        "\n",
        "print(\"Original List:\", fruits)\n",
        "print(\"Converted Set:\", fruits_set)\n"
      ],
      "metadata": {
        "colab": {
          "base_uri": "https://localhost:8080/"
        },
        "id": "KO2JpVsA8Xko",
        "outputId": "693dfc5a-265b-4da1-cabf-f9b99465a095"
      },
      "execution_count": 36,
      "outputs": [
        {
          "output_type": "stream",
          "name": "stdout",
          "text": [
            "Original List: ['apple', 'banana', 'cherry', 'apple', 'banana']\n",
            "Converted Set: {'cherry', 'apple', 'banana'}\n"
          ]
        }
      ]
    }
  ]
}